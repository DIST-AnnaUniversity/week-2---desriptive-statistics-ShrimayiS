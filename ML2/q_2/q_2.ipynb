{
 "cells": [
  {
   "cell_type": "code",
   "execution_count": 1,
   "id": "167d3aa2-d952-472c-bd43-92376f5c8f31",
   "metadata": {},
   "outputs": [],
   "source": [
    "import numpy as np\n",
    "import pandas as pd\n",
    "import seaborn as sns"
   ]
  },
  {
   "cell_type": "markdown",
   "id": "0c2885fc-a7e9-4522-98ec-019990b206ec",
   "metadata": {},
   "source": [
    "### 1. The miles per gallon rating for 30 cars are shown below (lowest to highest). Find the Stem Leaf Plot\n",
    "- Data : 19, 19, 19, 20, 21, 21, 25, 25, 25, 26, 26, 28, 29, 31, 31, 32, 32, 33, 34, 35, 36,37, 37, 38, 38, 38, 38, 41, 43, 43 "
   ]
  },
  {
   "cell_type": "code",
   "execution_count": 9,
   "id": "035cd9f2-c3e1-4b49-9a03-c6a156d32eeb",
   "metadata": {},
   "outputs": [],
   "source": [
    "datapoints = [19, 19, 19, 20, 21, 21, 25, 25, 25, 26, 26, 28, 29, 31, 31, 32, 32, 33, 34, 35, 36,37, 37, 38, 38, 38, 38, 41, 43, 43]"
   ]
  },
  {
   "cell_type": "code",
   "execution_count": 3,
   "id": "307bac74-6702-4555-aedc-6570707a1d97",
   "metadata": {},
   "outputs": [],
   "source": [
    "def getStemLeaf(arr):\n",
    "    d = {}\n",
    "    for i in arr:\n",
    "        i = str(i)\n",
    "        if i[0] in d:\n",
    "            d[i[0]] = d[i[0]]+ \",\" +i[1]\n",
    "        else:\n",
    "            d[i[0]] = i[1]\n",
    "    return d"
   ]
  },
  {
   "cell_type": "code",
   "execution_count": 10,
   "id": "6dc19e2a-0c66-4e1e-87b4-a99ced480b8b",
   "metadata": {},
   "outputs": [
    {
     "name": "stdout",
     "output_type": "stream",
     "text": [
      "{'1': '9,9,9', '2': '0,1,1,5,5,5,6,6,8,9', '3': '1,1,2,2,3,4,5,6,7,7,8,8,8,8', '4': '1,3,3'}\n"
     ]
    }
   ],
   "source": [
    "d = getStemLeaf(datapoints)\n",
    "print(d)"
   ]
  },
  {
   "cell_type": "code",
   "execution_count": 11,
   "id": "5545cd5f-900f-4f64-b071-34f3e55b9b24",
   "metadata": {},
   "outputs": [],
   "source": [
    "stem_leaf = pd.DataFrame(d.items(), columns=['Stem', 'Leaf'])"
   ]
  },
  {
   "cell_type": "code",
   "execution_count": 12,
   "id": "2a404aec-c289-473e-b486-1a8e3fc3173a",
   "metadata": {},
   "outputs": [
    {
     "data": {
      "text/html": [
       "<div>\n",
       "<style scoped>\n",
       "    .dataframe tbody tr th:only-of-type {\n",
       "        vertical-align: middle;\n",
       "    }\n",
       "\n",
       "    .dataframe tbody tr th {\n",
       "        vertical-align: top;\n",
       "    }\n",
       "\n",
       "    .dataframe thead th {\n",
       "        text-align: right;\n",
       "    }\n",
       "</style>\n",
       "<table border=\"1\" class=\"dataframe\">\n",
       "  <thead>\n",
       "    <tr style=\"text-align: right;\">\n",
       "      <th></th>\n",
       "      <th>Stem</th>\n",
       "      <th>Leaf</th>\n",
       "    </tr>\n",
       "  </thead>\n",
       "  <tbody>\n",
       "    <tr>\n",
       "      <th>0</th>\n",
       "      <td>1</td>\n",
       "      <td>9,9,9</td>\n",
       "    </tr>\n",
       "    <tr>\n",
       "      <th>1</th>\n",
       "      <td>2</td>\n",
       "      <td>0,1,1,5,5,5,6,6,8,9</td>\n",
       "    </tr>\n",
       "    <tr>\n",
       "      <th>2</th>\n",
       "      <td>3</td>\n",
       "      <td>1,1,2,2,3,4,5,6,7,7,8,8,8,8</td>\n",
       "    </tr>\n",
       "    <tr>\n",
       "      <th>3</th>\n",
       "      <td>4</td>\n",
       "      <td>1,3,3</td>\n",
       "    </tr>\n",
       "  </tbody>\n",
       "</table>\n",
       "</div>"
      ],
      "text/plain": [
       "  Stem                         Leaf\n",
       "0    1                        9,9,9\n",
       "1    2          0,1,1,5,5,5,6,6,8,9\n",
       "2    3  1,1,2,2,3,4,5,6,7,7,8,8,8,8\n",
       "3    4                        1,3,3"
      ]
     },
     "execution_count": 12,
     "metadata": {},
     "output_type": "execute_result"
    }
   ],
   "source": [
    "stem_leaf"
   ]
  },
  {
   "cell_type": "code",
   "execution_count": 17,
   "id": "7c5ccc54-4eb5-461e-bbaf-05701d57f09f",
   "metadata": {},
   "outputs": [],
   "source": [
    "import math\n",
    "\n",
    "def findQuartiles(data):\n",
    "    q1, q3 = np.percentile(data, [25,75])\n",
    "    iqr = q3 - q1\n",
    "    lw = q1 - (1.5 * iqr)\n",
    "    hw = q3 + (1.5 * iqr)\n",
    "    return (q1, q3, iqr, lw, hw)"
   ]
  },
  {
   "cell_type": "code",
   "execution_count": 18,
   "id": "8223a7a7-c614-48bf-acb2-85d058b5931d",
   "metadata": {},
   "outputs": [
    {
     "name": "stdout",
     "output_type": "stream",
     "text": [
      "25.0 37.0 12.0 7.0 7.0\n",
      "Outliars : No Outliars Detected.\n"
     ]
    }
   ],
   "source": [
    "q1, q3, iqr, lw, hw = findQuartiles(datapoints)\n",
    "print(q1, q3, iqr, lw, lw)\n",
    "print(\"Outliars :\", end=\" \")\n",
    "out = []\n",
    "for _d in datapoints:\n",
    "    if _d < lw:\n",
    "        out.append(str(_d))\n",
    "for _d in datapoints:\n",
    "    if _d > hw:\n",
    "        out.append(str(_d))\n",
    "if len(out) != 0:\n",
    "    for i in out:\n",
    "        print(i, end=\",\")\n",
    "else:\n",
    "    print(\"No Outliars Detected.\")"
   ]
  },
  {
   "cell_type": "markdown",
   "id": "0c0035ab-6b89-4666-907d-e102dcc5b08e",
   "metadata": {
    "tags": []
   },
   "source": [
    "### 2. Student grades on a chemistry exam were: 77, 78, 76, 81, 86, 51, 79, 82, 84, 99\n",
    "- Construct a stem-and-leaf plot of the data.\n",
    "- Are there any potential outliers? If so, which scores are they? Why do you consider them outliers?"
   ]
  },
  {
   "cell_type": "code",
   "execution_count": 20,
   "id": "1e072da1-922f-497f-8131-6db6b4898e42",
   "metadata": {},
   "outputs": [],
   "source": [
    "datapoints = [77, 78, 76, 81, 86, 51, 79, 82, 84, 99]"
   ]
  },
  {
   "cell_type": "code",
   "execution_count": 21,
   "id": "2568919c-bb57-4656-b145-c56f93b57999",
   "metadata": {},
   "outputs": [],
   "source": [
    "datapoints.sort()"
   ]
  },
  {
   "cell_type": "code",
   "execution_count": 22,
   "id": "fb59c291-295b-4116-85dc-109311f8c04a",
   "metadata": {},
   "outputs": [
    {
     "data": {
      "text/plain": [
       "[51, 76, 77, 78, 79, 81, 82, 84, 86, 99]"
      ]
     },
     "execution_count": 22,
     "metadata": {},
     "output_type": "execute_result"
    }
   ],
   "source": [
    "datapoints"
   ]
  },
  {
   "cell_type": "code",
   "execution_count": 23,
   "id": "ba1055ef-5cf2-4c6d-ae04-395cd4e01abb",
   "metadata": {},
   "outputs": [],
   "source": [
    "d = getStemLeaf(datapoints)"
   ]
  },
  {
   "cell_type": "code",
   "execution_count": 24,
   "id": "3d05c352-0d93-4a95-b323-3f4a89cb7f36",
   "metadata": {},
   "outputs": [],
   "source": [
    "stem_leaf = pd.DataFrame(d.items(), columns=['Stem', 'Leaf'])"
   ]
  },
  {
   "cell_type": "code",
   "execution_count": 25,
   "id": "c8431a0c-1a64-480c-b521-cc790bdcefea",
   "metadata": {},
   "outputs": [
    {
     "data": {
      "text/html": [
       "<div>\n",
       "<style scoped>\n",
       "    .dataframe tbody tr th:only-of-type {\n",
       "        vertical-align: middle;\n",
       "    }\n",
       "\n",
       "    .dataframe tbody tr th {\n",
       "        vertical-align: top;\n",
       "    }\n",
       "\n",
       "    .dataframe thead th {\n",
       "        text-align: right;\n",
       "    }\n",
       "</style>\n",
       "<table border=\"1\" class=\"dataframe\">\n",
       "  <thead>\n",
       "    <tr style=\"text-align: right;\">\n",
       "      <th></th>\n",
       "      <th>Stem</th>\n",
       "      <th>Leaf</th>\n",
       "    </tr>\n",
       "  </thead>\n",
       "  <tbody>\n",
       "    <tr>\n",
       "      <th>0</th>\n",
       "      <td>5</td>\n",
       "      <td>1</td>\n",
       "    </tr>\n",
       "    <tr>\n",
       "      <th>1</th>\n",
       "      <td>7</td>\n",
       "      <td>6,7,8,9</td>\n",
       "    </tr>\n",
       "    <tr>\n",
       "      <th>2</th>\n",
       "      <td>8</td>\n",
       "      <td>1,2,4,6</td>\n",
       "    </tr>\n",
       "    <tr>\n",
       "      <th>3</th>\n",
       "      <td>9</td>\n",
       "      <td>9</td>\n",
       "    </tr>\n",
       "  </tbody>\n",
       "</table>\n",
       "</div>"
      ],
      "text/plain": [
       "  Stem     Leaf\n",
       "0    5        1\n",
       "1    7  6,7,8,9\n",
       "2    8  1,2,4,6\n",
       "3    9        9"
      ]
     },
     "execution_count": 25,
     "metadata": {},
     "output_type": "execute_result"
    }
   ],
   "source": [
    "stem_leaf"
   ]
  },
  {
   "cell_type": "code",
   "execution_count": 27,
   "id": "6d4c633d-ab20-48a4-957f-abed6a728696",
   "metadata": {},
   "outputs": [
    {
     "name": "stdout",
     "output_type": "stream",
     "text": [
      "77.25 83.5 6.25 67.875 92.875\n",
      "Outliars : 51,99,"
     ]
    }
   ],
   "source": [
    "q1, q3, iqr, lw, hw = findQuartiles(datapoints)\n",
    "print(q1, q3, iqr, lw, hw)\n",
    "print(\"Outliars :\", end=\" \")\n",
    "out = []\n",
    "for d in datapoints:\n",
    "    if d < lw:\n",
    "        out.append(str(d))\n",
    "for d in datapoints:\n",
    "    if d > hw:\n",
    "        out.append(str(d))\n",
    "if len(out) != 0:\n",
    "    for i in out:\n",
    "        print(i, end=\",\")\n",
    "else:\n",
    "    print(\"No Outliars Detected.\")"
   ]
  },
  {
   "cell_type": "markdown",
   "id": "f54d44ab-441a-42a8-abde-0fc245c58c02",
   "metadata": {},
   "source": [
    "### 49. Twenty-five randomly selected students were asked the number of movies they watched the previous week. The results are as follows:\n",
    "d = {\n",
    "'NOM' :[0,1,2,3,4],\n",
    "'FREQ' : [5,9,6,4,1]}\n",
    "\n",
    "- NOM -> Number of Movies\n",
    "- FREQ -> Frequency"
   ]
  },
  {
   "cell_type": "code",
   "execution_count": 28,
   "id": "2ae817fd-be78-4039-bbd5-9557ef08c281",
   "metadata": {},
   "outputs": [],
   "source": [
    "d = {\n",
    "'nofyears' :[0,1,2,3,4],\n",
    "'frequency' : [5,9,6,4,1]}"
   ]
  },
  {
   "cell_type": "code",
   "execution_count": 29,
   "id": "b6ba6e2a-30ff-4c5f-ae5a-c23ceaed0d9b",
   "metadata": {},
   "outputs": [
    {
     "data": {
      "text/html": [
       "<div>\n",
       "<style scoped>\n",
       "    .dataframe tbody tr th:only-of-type {\n",
       "        vertical-align: middle;\n",
       "    }\n",
       "\n",
       "    .dataframe tbody tr th {\n",
       "        vertical-align: top;\n",
       "    }\n",
       "\n",
       "    .dataframe thead th {\n",
       "        text-align: right;\n",
       "    }\n",
       "</style>\n",
       "<table border=\"1\" class=\"dataframe\">\n",
       "  <thead>\n",
       "    <tr style=\"text-align: right;\">\n",
       "      <th></th>\n",
       "      <th>nofyears</th>\n",
       "      <th>frequency</th>\n",
       "    </tr>\n",
       "  </thead>\n",
       "  <tbody>\n",
       "    <tr>\n",
       "      <th>0</th>\n",
       "      <td>0</td>\n",
       "      <td>5</td>\n",
       "    </tr>\n",
       "    <tr>\n",
       "      <th>1</th>\n",
       "      <td>1</td>\n",
       "      <td>9</td>\n",
       "    </tr>\n",
       "    <tr>\n",
       "      <th>2</th>\n",
       "      <td>2</td>\n",
       "      <td>6</td>\n",
       "    </tr>\n",
       "    <tr>\n",
       "      <th>3</th>\n",
       "      <td>3</td>\n",
       "      <td>4</td>\n",
       "    </tr>\n",
       "    <tr>\n",
       "      <th>4</th>\n",
       "      <td>4</td>\n",
       "      <td>1</td>\n",
       "    </tr>\n",
       "  </tbody>\n",
       "</table>\n",
       "</div>"
      ],
      "text/plain": [
       "   nofyears  frequency\n",
       "0         0          5\n",
       "1         1          9\n",
       "2         2          6\n",
       "3         3          4\n",
       "4         4          1"
      ]
     },
     "execution_count": 29,
     "metadata": {},
     "output_type": "execute_result"
    }
   ],
   "source": [
    "df = pd.DataFrame.from_dict(d)\n",
    "df.head()"
   ]
  },
  {
   "cell_type": "code",
   "execution_count": 30,
   "id": "b306b726-18e2-4cc6-92be-8ffe70edb9d0",
   "metadata": {},
   "outputs": [
    {
     "data": {
      "text/plain": [
       "<AxesSubplot:xlabel='nofyears'>"
      ]
     },
     "execution_count": 30,
     "metadata": {},
     "output_type": "execute_result"
    },
    {
     "data": {
      "image/png": "[encoded data removed]",
      "text/plain": [
       "<Figure size 432x288 with 1 Axes>"
      ]
     },
     "metadata": {
      "needs_background": "light"
     },
     "output_type": "display_data"
    }
   ],
   "source": [
    "sns.boxplot(x=df['nofyears'])"
   ]
  },
  {
   "cell_type": "code",
   "execution_count": 31,
   "id": "34178b13-16e9-4065-9ec8-aa035cedae66",
   "metadata": {},
   "outputs": [
    {
     "data": {
      "text/plain": [
       "<AxesSubplot:xlabel='frequency'>"
      ]
     },
     "execution_count": 31,
     "metadata": {},
     "output_type": "execute_result"
    },
    {
     "data": {
      "image/png": "[encoded data removed]",
      "text/plain": [
       "<Figure size 432x288 with 1 Axes>"
      ]
     },
     "metadata": {
      "needs_background": "light"
     },
     "output_type": "display_data"
    }
   ],
   "source": [
    "sns.boxplot(x=df['frequency'])"
   ]
  },
  {
   "attachments": {
    "cdfdf2a6-3042-4782-b8d3-f5816a355ba8.png": {
     "image/png": "[encoded data removed]"
    }
   },
   "cell_type": "markdown",
   "id": "16100859-ee19-43fa-ad45-ba1ba574284e",
   "metadata": {},
   "source": [
    "### 61. Given Dataset\n",
    "\n",
    "![image.png](attachment:cdfdf2a6-3042-4782-b8d3-f5816a355ba8.png)"
   ]
  },
  {
   "cell_type": "code",
   "execution_count": 32,
   "id": "31c12bce-c918-4045-b2f8-2bfce37ecf81",
   "metadata": {},
   "outputs": [],
   "source": [
    "d = {\n",
    "'nofyears': [7,14,15,18,19,20,22,23,26,40,42],\n",
    "'frequency': [1,3,1,1,4,3,1,1,1,2,2]}"
   ]
  },
  {
   "cell_type": "code",
   "execution_count": 33,
   "id": "a4bad581-183e-405d-a3bb-9ecdf10d673c",
   "metadata": {},
   "outputs": [
    {
     "data": {
      "text/html": [
       "<div>\n",
       "<style scoped>\n",
       "    .dataframe tbody tr th:only-of-type {\n",
       "        vertical-align: middle;\n",
       "    }\n",
       "\n",
       "    .dataframe tbody tr th {\n",
       "        vertical-align: top;\n",
       "    }\n",
       "\n",
       "    .dataframe thead th {\n",
       "        text-align: right;\n",
       "    }\n",
       "</style>\n",
       "<table border=\"1\" class=\"dataframe\">\n",
       "  <thead>\n",
       "    <tr style=\"text-align: right;\">\n",
       "      <th></th>\n",
       "      <th>nofyears</th>\n",
       "      <th>frequency</th>\n",
       "    </tr>\n",
       "  </thead>\n",
       "  <tbody>\n",
       "    <tr>\n",
       "      <th>0</th>\n",
       "      <td>7</td>\n",
       "      <td>1</td>\n",
       "    </tr>\n",
       "    <tr>\n",
       "      <th>1</th>\n",
       "      <td>14</td>\n",
       "      <td>3</td>\n",
       "    </tr>\n",
       "    <tr>\n",
       "      <th>2</th>\n",
       "      <td>15</td>\n",
       "      <td>1</td>\n",
       "    </tr>\n",
       "    <tr>\n",
       "      <th>3</th>\n",
       "      <td>18</td>\n",
       "      <td>1</td>\n",
       "    </tr>\n",
       "    <tr>\n",
       "      <th>4</th>\n",
       "      <td>19</td>\n",
       "      <td>4</td>\n",
       "    </tr>\n",
       "    <tr>\n",
       "      <th>5</th>\n",
       "      <td>20</td>\n",
       "      <td>3</td>\n",
       "    </tr>\n",
       "    <tr>\n",
       "      <th>6</th>\n",
       "      <td>22</td>\n",
       "      <td>1</td>\n",
       "    </tr>\n",
       "    <tr>\n",
       "      <th>7</th>\n",
       "      <td>23</td>\n",
       "      <td>1</td>\n",
       "    </tr>\n",
       "    <tr>\n",
       "      <th>8</th>\n",
       "      <td>26</td>\n",
       "      <td>1</td>\n",
       "    </tr>\n",
       "    <tr>\n",
       "      <th>9</th>\n",
       "      <td>40</td>\n",
       "      <td>2</td>\n",
       "    </tr>\n",
       "    <tr>\n",
       "      <th>10</th>\n",
       "      <td>42</td>\n",
       "      <td>2</td>\n",
       "    </tr>\n",
       "  </tbody>\n",
       "</table>\n",
       "</div>"
      ],
      "text/plain": [
       "    nofyears  frequency\n",
       "0          7          1\n",
       "1         14          3\n",
       "2         15          1\n",
       "3         18          1\n",
       "4         19          4\n",
       "5         20          3\n",
       "6         22          1\n",
       "7         23          1\n",
       "8         26          1\n",
       "9         40          2\n",
       "10        42          2"
      ]
     },
     "execution_count": 33,
     "metadata": {},
     "output_type": "execute_result"
    }
   ],
   "source": [
    "df = pd.DataFrame.from_dict(d)\n",
    "df"
   ]
  },
  {
   "cell_type": "code",
   "execution_count": 34,
   "id": "73be4938-d344-48f3-a475-ee77d28a47a6",
   "metadata": {},
   "outputs": [],
   "source": [
    "nofyears = df.nofyears.tolist()\n",
    "nofyears.sort()"
   ]
  },
  {
   "cell_type": "markdown",
   "id": "db9190d0-53ce-42b1-9016-0f29197bbf8b",
   "metadata": {},
   "source": [
    "### 61. What is the IQR?"
   ]
  },
  {
   "cell_type": "code",
   "execution_count": 35,
   "id": "80d44b8a-563f-4be5-8244-98868ec9cfdd",
   "metadata": {},
   "outputs": [],
   "source": [
    "q1, q3 = np.percentile(nofyears, [25,75])"
   ]
  },
  {
   "cell_type": "code",
   "execution_count": 36,
   "id": "eea2314e-ff12-4979-9d3d-38971164f229",
   "metadata": {},
   "outputs": [],
   "source": [
    "IQR = q3-q1"
   ]
  },
  {
   "cell_type": "code",
   "execution_count": 37,
   "id": "67a45c37-6bd1-43de-9c7b-2c29dd2752cf",
   "metadata": {},
   "outputs": [
    {
     "name": "stdout",
     "output_type": "stream",
     "text": [
      "IQR of No of Frequency(NOY) in the give dataset is 8.0\n"
     ]
    }
   ],
   "source": [
    "print(f\"IQR of No of Frequency(NOY) in the give dataset is {IQR}\")"
   ]
  },
  {
   "cell_type": "markdown",
   "id": "5ee99d27-c348-46d1-8f56-dac598cb0559",
   "metadata": {},
   "source": [
    "### 62. What is the mode?"
   ]
  },
  {
   "cell_type": "markdown",
   "id": "6eea0a27-1a83-4abf-844c-e7a8fac81835",
   "metadata": {},
   "source": [
    "- ANS: Considering the frequency in the given table the Number of Year : 19 occurs 4 times. Hence the mode is 19."
   ]
  },
  {
   "cell_type": "markdown",
   "id": "4dca3da2-8074-42fc-a23a-9505ca230b19",
   "metadata": {},
   "source": [
    "### 62. Is this a sample or the entire population?\n",
    "\n",
    "- ANS : Sample\n",
    "\n",
    "**Justification** : Here the given dataset is a sample considering there can be many/multiple elementry statistics classes in Califonia."
   ]
  },
  {
   "cell_type": "code",
   "execution_count": null,
   "id": "4dfa56f9-86f3-480e-b574-eb1788e562c4",
   "metadata": {},
   "outputs": [],
   "source": []
  }
 ],
 "metadata": {
  "kernelspec": {
   "display_name": "Python 3 (ipykernel)",
   "language": "python",
   "name": "python3"
  },
  "language_info": {
   "codemirror_mode": {
    "name": "ipython",
    "version": 3
   },
   "file_extension": ".py",
   "mimetype": "text/x-python",
   "name": "python",
   "nbconvert_exporter": "python",
   "pygments_lexer": "ipython3",
   "version": "3.9.12"
  }
 },
 "nbformat": 4,
 "nbformat_minor": 5
}
